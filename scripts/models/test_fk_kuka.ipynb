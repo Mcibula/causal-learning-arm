{
 "cells": [
  {
   "metadata": {},
   "cell_type": "markdown",
   "source": "## Mental simulation test in Experiment 1",
   "id": "a21f34f31fe1f940"
  },
  {
   "cell_type": "code",
   "id": "initial_id",
   "metadata": {
    "collapsed": true,
    "ExecuteTime": {
     "end_time": "2024-06-16T14:45:13.317640Z",
     "start_time": "2024-06-16T14:45:05.867534Z"
    }
   },
   "source": [
    "import glob\n",
    "import pickle\n",
    "\n",
    "raw_data = []\n",
    "\n",
    "for path in glob.glob('../../data/kinematics/kuka_fwd_mental_sim_30k/raw_data/*.pkl'):\n",
    "    with open(path, 'rb') as f:\n",
    "        raw_data.append(pickle.load(f))"
   ],
   "outputs": [],
   "execution_count": 1
  },
  {
   "cell_type": "code",
   "source": [
    "data = raw_data[0]\n",
    "\n",
    "for part in raw_data[1:]:\n",
    "    for n_steps in part:\n",
    "        data[n_steps].extend(part[n_steps])"
   ],
   "metadata": {
    "collapsed": false,
    "ExecuteTime": {
     "end_time": "2024-06-16T14:46:00.283528Z",
     "start_time": "2024-06-16T14:46:00.258462Z"
    }
   },
   "id": "748a85c4e5e865c7",
   "outputs": [],
   "execution_count": 2
  },
  {
   "cell_type": "code",
   "source": [
    "with open('../../data/kinematics/kuka_fwd_mental_sim_30k/kuka_fwd_mental_sim_30k.pkl', 'wb') as f:\n",
    "    pickle.dump(data, f)"
   ],
   "metadata": {
    "collapsed": false,
    "ExecuteTime": {
     "end_time": "2024-06-16T14:47:14.241683Z",
     "start_time": "2024-06-16T14:46:47.491256Z"
    }
   },
   "id": "d83796ee65542739",
   "outputs": [],
   "execution_count": 3
  },
  {
   "cell_type": "code",
   "source": [
    "with open('../../data/kinematics/kuka_fwd_mental_sim_30k/kuka_fwd_mental_sim_30k.pkl', 'rb') as f:\n",
    "    data = pickle.load(f)"
   ],
   "metadata": {
    "collapsed": false,
    "ExecuteTime": {
     "end_time": "2024-04-18T11:00:46.181435Z",
     "start_time": "2024-04-18T11:00:45.914070Z"
    }
   },
   "id": "ebbf0d4ad3703a09",
   "outputs": [],
   "execution_count": 11
  },
  {
   "cell_type": "code",
   "source": [
    "from tensorflow.keras.saving import load_model\n",
    "from tensorflow.keras.models import Model\n",
    "\n",
    "fwd_model: Model = load_model('../../models/kinematics/kuka_fwd.keras')"
   ],
   "metadata": {
    "collapsed": false
   },
   "id": "8036a2a8f6d383b0",
   "outputs": [],
   "execution_count": null
  },
  {
   "cell_type": "code",
   "source": [
    "import numpy as np\n",
    "\n",
    "n_joints = 7\n",
    "actions = {}\n",
    "\n",
    "for n_steps in range(1, 11):\n",
    "    actions[n_steps] = []\n",
    "\n",
    "    for series in data[n_steps]:\n",
    "        a_series = []\n",
    "\n",
    "        s0 = series[0]\n",
    "        joints_0, eff_0 = s0[:n_joints], s0[n_joints:]\n",
    "\n",
    "        for s1 in series[1:]:\n",
    "            joints_1, eff_1 = s1[:n_joints], s1[n_joints:]\n",
    "            a = joints_1 - joints_0\n",
    "\n",
    "            a_series.append(a)\n",
    "\n",
    "            s0 = s1\n",
    "            joints_0, eff_0 = joints_1, eff_1\n",
    "\n",
    "        actions[n_steps].append(a_series)"
   ],
   "metadata": {
    "collapsed": false,
    "ExecuteTime": {
     "end_time": "2024-06-16T16:09:14.590592Z",
     "start_time": "2024-06-16T16:09:08.817013Z"
    }
   },
   "id": "b5b656fb22f355a5",
   "outputs": [],
   "execution_count": 11
  },
  {
   "cell_type": "code",
   "source": [
    "from sklearn.metrics import mean_absolute_error\n",
    "from tqdm import tqdm\n",
    "\n",
    "joint_errors = {}\n",
    "eff_errors = {}\n",
    "\n",
    "for n_steps in range(1, 11):\n",
    "    joint_errors[n_steps] = []\n",
    "    eff_errors[n_steps] = []\n",
    "\n",
    "    for series, a_series in tqdm(\n",
    "            zip(data[n_steps], actions[n_steps]),\n",
    "            desc=f'n_steps = {n_steps}',\n",
    "            total=len(data[n_steps])\n",
    "    ):\n",
    "        s0_true = series[0]\n",
    "        s0_pred = s0_true\n",
    "\n",
    "        for a in a_series:\n",
    "            x = np.expand_dims(np.hstack((s0_pred, a)), axis=0)\n",
    "            y_pred = fwd_model.predict(x, verbose=0)\n",
    "\n",
    "            joints_1_pred = y_pred[0][0]\n",
    "            eff_1_pred = y_pred[1][0]\n",
    "            s1_pred = np.hstack((joints_1_pred, eff_1_pred))\n",
    "\n",
    "            s0_pred = s1_pred\n",
    "\n",
    "        s1_true = series[-1]\n",
    "        joints_1_true, eff_1_true = s1_true[:n_joints], s1_true[n_joints:]\n",
    "\n",
    "        joint_errors[n_steps].append(mean_absolute_error(joints_1_true, joints_1_pred))\n",
    "        eff_errors[n_steps].append(mean_absolute_error(eff_1_true, eff_1_pred))"
   ],
   "metadata": {
    "collapsed": false
   },
   "id": "127fe071744d7c69",
   "outputs": [],
   "execution_count": null
  },
  {
   "cell_type": "code",
   "source": [
    "import pickle\n",
    "\n",
    "with open('./errors.pkl', 'wb') as f:\n",
    "    pickle.dump((joint_errors, eff_errors), f)"
   ],
   "metadata": {
    "collapsed": false
   },
   "id": "78777f9bb5b654c3",
   "outputs": [],
   "execution_count": null
  },
  {
   "cell_type": "code",
   "source": [
    "import pickle\n",
    "\n",
    "with open('../../data/kinematics/kuka_fwd_mental_sim_30k/errors_6k.pkl', 'rb') as f:\n",
    "    joint_errors, eff_errors = pickle.load(f)"
   ],
   "metadata": {
    "collapsed": false,
    "ExecuteTime": {
     "end_time": "2024-06-16T19:10:42.246572Z",
     "start_time": "2024-06-16T19:10:42.053521Z"
    }
   },
   "id": "41229725497ca6b7",
   "outputs": [],
   "execution_count": 14
  },
  {
   "cell_type": "code",
   "source": [
    "import numpy as np\n",
    "\n",
    "x = list(range(1, 11))\n",
    "\n",
    "j_means = [0] + [np.mean(joint_errors[n]) for n in x]\n",
    "e_means = [0] + [np.mean(eff_errors[n]) for n in x]\n",
    "\n",
    "j_bounds = [0] + [np.std(joint_errors[n]) for n in x]\n",
    "e_bounds = [0] + [np.std(eff_errors[n]) for n in x]\n",
    "\n",
    "x = [0] + x"
   ],
   "metadata": {
    "collapsed": false,
    "ExecuteTime": {
     "end_time": "2024-06-16T19:10:51.386879Z",
     "start_time": "2024-06-16T19:10:51.331344Z"
    }
   },
   "id": "4e2a1d6caeaf3ced",
   "outputs": [],
   "execution_count": 16
  },
  {
   "cell_type": "code",
   "source": [
    "import matplotlib.pyplot as plt\n",
    "\n",
    "plt.clf()\n",
    "rc = {\n",
    "    'font.family': 'serif',\n",
    "    'text.usetex': True,\n",
    "    'xtick.labelsize': 12,\n",
    "    'ytick.labelsize': 12,\n",
    "    'svg.fonttype': 'none'\n",
    "}\n",
    "\n",
    "with plt.rc_context(rc):\n",
    "    fig, (ax0, ax1) = plt.subplots(ncols=2, layout='constrained', figsize=(7, 3))\n",
    "    \n",
    "    ax0.errorbar(\n",
    "        x, j_means,\n",
    "        yerr=j_bounds,\n",
    "        fmt='-o',\n",
    "        capsize=5\n",
    "    )\n",
    "    ax0.set_title('Joint configuration error', fontsize=12)\n",
    "    ax0.set_xticks(x)\n",
    "    ax0.set_xlabel('Number of steps ahead', fontsize=12)\n",
    "    ax0.set_ylabel('MAE [rad]', fontsize=12)\n",
    "    \n",
    "    ax1.errorbar(\n",
    "        x, e_means,\n",
    "        yerr=e_bounds,\n",
    "        fmt='-o',\n",
    "        capsize=5\n",
    "    )\n",
    "    ax1.set_title('Effector position error', fontsize=12)\n",
    "    ax1.set_xticks(x)\n",
    "    ax1.set_xlabel('Number of steps ahead', fontsize=12)\n",
    "    ax1.set_ylabel('MAE [m]', fontsize=12)\n",
    "    \n",
    "    plt.savefig('../../plots/kuka/kinematics/kuka_mental_sim_err_step0.svg', format='svg')\n",
    "    \n",
    "    # plt.show()"
   ],
   "metadata": {
    "collapsed": false,
    "ExecuteTime": {
     "end_time": "2024-06-16T19:11:35.191110Z",
     "start_time": "2024-06-16T19:11:25.381922Z"
    }
   },
   "id": "45fe5c3af5ddb8ea",
   "outputs": [
    {
     "data": {
      "text/plain": [
       "<Figure size 640x480 with 0 Axes>"
      ]
     },
     "metadata": {},
     "output_type": "display_data"
    },
    {
     "data": {
      "text/plain": [
       "<Figure size 700x300 with 2 Axes>"
      ],
      "image/png": "[encoded data removed]"
     },
     "metadata": {},
     "output_type": "display_data"
    }
   ],
   "execution_count": 17
  }
 ],
 "metadata": {
  "kernelspec": {
   "display_name": "Python 3",
   "language": "python",
   "name": "python3"
  },
  "language_info": {
   "codemirror_mode": {
    "name": "ipython",
    "version": 2
   },
   "file_extension": ".py",
   "mimetype": "text/x-python",
   "name": "python",
   "nbconvert_exporter": "python",
   "pygments_lexer": "ipython2",
   "version": "2.7.6"
  }
 },
 "nbformat": 4,
 "nbformat_minor": 5
}
